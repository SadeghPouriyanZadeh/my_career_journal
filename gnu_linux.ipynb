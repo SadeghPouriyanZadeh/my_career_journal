{
 "cells": [
  {
   "cell_type": "markdown",
   "metadata": {},
   "source": [
    "# GNU/Linux"
   ]
  },
  {
   "cell_type": "markdown",
   "metadata": {},
   "source": [
    "## [x] Learned"
   ]
  },
  {
   "cell_type": "markdown",
   "metadata": {},
   "source": [
    "1. Philosophy of Free Software and Open Source (Richard Stallman, Linus Torvalds)"
   ]
  },
  {
   "cell_type": "markdown",
   "metadata": {},
   "source": [
    "2. Basic Commands:\n",
    "- `ls`: list files and directories\n",
    "- `cd`: change directory\n",
    "- `pwd`: print working directory\n",
    "- `mkdir`: make directory\n",
    "- `touch`: create a file\n",
    "- `rm`: remove a file\n",
    "- `mv`: move a file\n",
    "- `cp`: copy a file\n",
    "- `cat`: print on the standard output\n",
    "- `chmod`: change file permissions\n",
    "- `sudo`: run a command as superuser\n",
    "- `apt`: debian package manager"
   ]
  },
  {
   "cell_type": "markdown",
   "metadata": {},
   "source": [
    "3. File System:\n",
    "- `/`: root directory\n",
    "- `~`: home directory\n",
    "- `.`: current directory"
   ]
  },
  {
   "cell_type": "markdown",
   "metadata": {},
   "source": [
    "4. Permissions:\n",
    "- `rwx`: read, write, execute"
   ]
  },
  {
   "cell_type": "markdown",
   "metadata": {},
   "source": [
    "## [ ] To Learn"
   ]
  },
  {
   "cell_type": "markdown",
   "metadata": {},
   "source": []
  }
 ],
 "metadata": {
  "language_info": {
   "name": "python"
  }
 },
 "nbformat": 4,
 "nbformat_minor": 2
}
