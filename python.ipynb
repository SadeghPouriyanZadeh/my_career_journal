{
 "cells": [
  {
   "cell_type": "markdown",
   "metadata": {},
   "source": [
    "# Python"
   ]
  },
  {
   "cell_type": "markdown",
   "metadata": {},
   "source": [
    "## [x] Learned"
   ]
  },
  {
   "cell_type": "markdown",
   "metadata": {},
   "source": [
    "0. Coding Assisstant:\n",
    "- GitHub Copilot"
   ]
  },
  {
   "cell_type": "markdown",
   "metadata": {},
   "source": [
    "1. Environment Setup:\n",
    "- `conda`: environment manager\n",
    "- `pip`: package manager\n",
    "- `jupyter`: interactive notebook\n",
    "- ~~`mamba`~~: faster `conda` alternative"
   ]
  },
  {
   "cell_type": "markdown",
   "metadata": {},
   "source": [
    "2. Code Style:\n",
    "- `black`: code formatter (PEP 8 compliant)\n",
    "- docstrings: Google Style string literals (PEP 257 compliant)\n",
    "- type annotations: in function signatures (PEP 484 compliant)\n",
    "- `typing`: type hints module"
   ]
  },
  {
   "cell_type": "markdown",
   "metadata": {},
   "source": [
    "3. Version Control:\n",
    "- `git`: version control system\n",
    "- `.gitignore`: file to ignore files in version control"
   ]
  },
  {
   "cell_type": "markdown",
   "metadata": {},
   "source": [
    "4. Input/Output (I/O):\n",
    "- `os`: operating system module\n",
    "- `requests`: HTTP library"
   ]
  },
  {
   "cell_type": "markdown",
   "metadata": {},
   "source": [
    "5. Web Scraping:\n",
    "- `beautifulsoup4`: HTML parser"
   ]
  },
  {
   "cell_type": "markdown",
   "metadata": {},
   "source": [
    "6. Data Management:\n",
    "- `sqlite3`: SQLite (RDBMS)\n",
    "- `pymongo`: MongoDB (NoSQL)"
   ]
  },
  {
   "cell_type": "markdown",
   "metadata": {},
   "source": [
    "7. Data Analysis:\n",
    "- `pandas`: data manipulation\n",
    "- `numpy`: numerical computation\n",
    "- `matplotlib`: data visualization\n",
    "- `plotly`: interactive data visualization"
   ]
  },
  {
   "cell_type": "markdown",
   "metadata": {},
   "source": [
    "8. Text Processing:\n",
    "- `re`: regular expression\n",
    "- `hazm`: Persian NLP library"
   ]
  },
  {
   "cell_type": "markdown",
   "metadata": {},
   "source": [
    "9. Image Processing:\n",
    "- `opencv-python`: OpenCV (computer vision) library\n",
    "- `PIL`: Python Imaging Library"
   ]
  },
  {
   "cell_type": "markdown",
   "metadata": {},
   "source": [
    "10. Machine Learning:\n",
    "- `scikit-learn`: machine learning library\n",
    "- `pytorch`: deep learning library\n",
    "- `transformers`: ML models API library\n",
    "- ~~`tensorflow`~~: deep learning library\n",
    "- ~~`keras`~~: high-level neural networks API library"
   ]
  },
  {
   "cell_type": "markdown",
   "metadata": {},
   "source": [
    "11. Packaging:\n",
    "- Script: a single Python file\n",
    "- Package: a directory containing initialization file and modules\n",
    "- Module: a Python file in a package directory\n",
    "- `__init__.py`: package initializer"
   ]
  },
  {
   "cell_type": "markdown",
   "metadata": {},
   "source": [
    "12. API Development:\n",
    "- `fastapi`: High-performance, Asynchronous, Data Validator, Auto-generated Documentation RESTful API framework\n",
    "- ~~`flask`~~: micro web framework"
   ]
  },
  {
   "cell_type": "markdown",
   "metadata": {},
   "source": [
    "13. Demo:\n",
    "- `gradio`\n",
    "- demo integration with `fastapi` APIs\n",
    "- ~~`streamlit`~~"
   ]
  },
  {
   "cell_type": "markdown",
   "metadata": {},
   "source": [
    "14: Deployment:\n",
    "- `docker`: containerization tool"
   ]
  },
  {
   "cell_type": "markdown",
   "metadata": {},
   "source": [
    "# [ ] To Learn"
   ]
  },
  {
   "cell_type": "markdown",
   "metadata": {},
   "source": [
    "1. Testing:"
   ]
  }
 ],
 "metadata": {
  "language_info": {
   "name": "python"
  }
 },
 "nbformat": 4,
 "nbformat_minor": 2
}
